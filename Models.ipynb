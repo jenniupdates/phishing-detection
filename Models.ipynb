{
 "cells": [
  {
   "cell_type": "code",
   "execution_count": 16,
   "id": "6491a419-97f5-45b3-bb21-19c8005847b2",
   "metadata": {},
   "outputs": [
    {
     "name": "stderr",
     "output_type": "stream",
     "text": [
      "[nltk_data] Downloading package stopwords to C:\\Users\\Lim Yin\n",
      "[nltk_data]     Shan\\AppData\\Roaming\\nltk_data...\n",
      "[nltk_data]   Package stopwords is already up-to-date!\n",
      "[nltk_data] Downloading package punkt to C:\\Users\\Lim Yin\n",
      "[nltk_data]     Shan\\AppData\\Roaming\\nltk_data...\n",
      "[nltk_data]   Package punkt is already up-to-date!\n",
      "[nltk_data] Downloading package wordnet to C:\\Users\\Lim Yin\n",
      "[nltk_data]     Shan\\AppData\\Roaming\\nltk_data...\n",
      "[nltk_data]   Package wordnet is already up-to-date!\n"
     ]
    },
    {
     "data": {
      "text/plain": [
       "True"
      ]
     },
     "execution_count": 16,
     "metadata": {},
     "output_type": "execute_result"
    }
   ],
   "source": [
    "from sklearn import svm\n",
    "from sklearn.metrics import accuracy_score\n",
    "from sklearn.feature_extraction.text import TfidfVectorizer\n",
    "from sklearn.naive_bayes import MultinomialNB\n",
    "import pandas as pd\n",
    "import numpy as np\n",
    "import re\n",
    "from sklearn.metrics import confusion_matrix, accuracy_score, precision_score, recall_score, f1_score\n",
    "from sklearn.model_selection import train_test_split\n",
    "\n",
    "import seaborn as sns\n",
    "import matplotlib.pyplot as plt\n",
    "import nltk\n",
    "from nltk.corpus import stopwords\n",
    "from nltk.tokenize import word_tokenize\n",
    "from nltk.stem import WordNetLemmatizer\n",
    "\n",
    "import pickle\n",
    "from joblib import Parallel, delayed\n",
    "import multiprocessing\n",
    "\n",
    "nltk.download('stopwords')\n",
    "nltk.download('punkt')\n",
    "nltk.download('wordnet')"
   ]
  },
  {
   "cell_type": "code",
   "execution_count": 17,
   "id": "d89085fc-24d8-4d68-848c-73a50ecb1c6c",
   "metadata": {},
   "outputs": [],
   "source": [
    "url = 'https://drive.google.com/file/d/1z3AN8qN3Sz1UTkDp_Bd8pGi4qqb2rXxu/view?usp=sharing'\n",
    "path = 'https://drive.google.com/uc?export=download&id='+url.split('/')[-2]\n",
    "df = pd.read_csv(path)\n",
    "df.dropna(inplace=True)"
   ]
  },
  {
   "cell_type": "code",
   "execution_count": 18,
   "id": "97c73231-c93c-460d-b82f-31831277d70b",
   "metadata": {},
   "outputs": [],
   "source": [
    "# Generate metrics matrix\n",
    "def metrics(actual, pred):\n",
    "    print('accuracy: %s%%' % round(accuracy_score(actual, pred)*100, 0))\n",
    "    print('precision: %s%%' % round(precision_score(actual, pred)*100, 0))\n",
    "    print('recall: %s%%' % round(recall_score(actual, pred)*100, 0))\n",
    "    print('f1_score: %s%%' % round(f1_score(actual, pred)*100, 0))"
   ]
  },
  {
   "cell_type": "code",
   "execution_count": 19,
   "id": "bc07fd7f-d07e-4a03-8bc8-4e147f53a227",
   "metadata": {},
   "outputs": [],
   "source": [
    "def clean_text(df):\n",
    "    # Converting the text to lower case\n",
    "    df['Text'] = df['Text'].astype(str).apply(lambda x: x.lower())\n",
    "    # Remove \"=\" symbol from data and replace \"\\n\" with \" \"\n",
    "    df['Text'] = df['Text'].apply(lambda x: x.replace(\"=\", ''))\n",
    "    df['Text'] = df['Text'].apply(lambda x: x.replace(\"\\n\", ' '))\n",
    "    # Extracting url from the text\n",
    "    df['Url'] = df['Text'].apply(lambda x: re.findall(\"http\\S+\", x))\n",
    "    # Create new feature called Url_Count\n",
    "    df['Url_Count'] = df['Url'].apply(lambda x: len(x))\n",
    "    # Extracting email from the text\n",
    "    df['Email'] = df['Text'].apply(lambda x: re.findall(\n",
    "        r\"[a-z0-9\\.\\-+_]+@[a-z0-9\\.\\-+_]+\\.[a-z]+\", x))\n",
    "    # Create new feature called Email_Count\n",
    "    df['Email_Count'] = df['Email'].apply(lambda x: len(x))\n",
    "    # Removing all symbols from the text except the \"$\" symbol\n",
    "    df['Text'] = df[\"Text\"].apply(lambda x: re.sub('[^a-z$\\s]', '', x))\n",
    "    df[\"Text_Length\"] = df[\"Text\"].apply(lambda x: len(x))\n",
    "    # Removing stop words part 1: Tokenising the text\n",
    "    df['Text_Tokens'] = df[\"Text\"].apply(lambda x: word_tokenize(x))\n",
    "    # Removing stop words part 2: Removing stopwords\n",
    "    df['Text_Filtered'] = df['Text_Tokens'].apply(lambda x: remove_stop_words(x))\n",
    "\n",
    "    return df\n",
    "\n",
    "\n",
    "def remove_stop_words(word_tokens):\n",
    "    nltk_stop_words = stopwords.words('english')\n",
    "    custom_stop_words = ['.', ',']\n",
    "    combined_stop_words = nltk_stop_words + custom_stop_words\n",
    "    filtered_sentence = []\n",
    "    for w in word_tokens:\n",
    "        if w not in combined_stop_words:\n",
    "            filtered_sentence.append(w)\n",
    "    return (filtered_sentence)\n",
    "\n",
    "\n",
    "def lemmatize(df):\n",
    "    # Lemmatize the list of words\n",
    "    wnl = WordNetLemmatizer()\n",
    "\n",
    "    def lemmatize(s):\n",
    "        s = [wnl.lemmatize(word) for word in s]\n",
    "        return s\n",
    "    df['Text_Filtered_Lemmatized'] = df['Text_Filtered'].apply(\n",
    "        lambda x: lemmatize(x))\n",
    "    # Join the word tokens into strings\n",
    "    df['Text_Filtered_String'] = df['Text_Filtered_Lemmatized'].apply(\n",
    "        lambda x: ' '.join(x))\n",
    "    df['Url_Present'] = df[\"Url_Count\"].apply(lambda x: 1 if x > 0 else 0)\n",
    "\n",
    "    return df\n",
    "\n",
    "\n",
    "def clean_df(df):\n",
    "    df = clean_text(df)\n",
    "    df = lemmatize(df)\n",
    "\n",
    "    return df"
   ]
  },
  {
   "cell_type": "code",
   "execution_count": 20,
   "id": "3cc09ee9-08f5-4322-8fdc-630a6a91b196",
   "metadata": {},
   "outputs": [],
   "source": [
    "df = clean_df(df)"
   ]
  },
  {
   "cell_type": "markdown",
   "id": "2ebd4642-3b50-4a9b-9d1a-3e096ea4756e",
   "metadata": {},
   "source": [
    "# TEXT MESSAGE ANALYSIS MODELS\r",
    "only included NB and SVM models here as they are the highest accuracy ones\n",
    "\n"
   ]
  },
  {
   "cell_type": "code",
   "execution_count": 34,
   "id": "05ddfe7e-5e4a-458b-9fb0-927093a81f0e",
   "metadata": {},
   "outputs": [],
   "source": [
    "string = \"\"\"Hi Yin Shan,\n",
    "\n",
    "Thank you so much for your confirmation!\n",
    "\n",
    "Good luck with your interviews :)\n",
    "\n",
    "Thank you!\n",
    "\n",
    "Regards\n",
    "Grace\"\"\"\n",
    "\n",
    "test_df = {'Text':[string], 'Class': [0]}\n",
    "test_df = pd.DataFrame(data=test_df)\n",
    "test_df = clean_df(test_df)\n",
    "\n",
    "xtest = test_df[\"Text_Filtered_String\"]\n",
    "ytest = test_df[\"Class\"]"
   ]
  },
  {
   "cell_type": "code",
   "execution_count": 35,
   "id": "2a8f128c-13c9-42ff-8478-0ec5fa844eab",
   "metadata": {},
   "outputs": [],
   "source": [
    "# Split dataset to test and train data\n",
    "X = df[\"Text_Filtered_String\"]\n",
    "y = df['Class']\n",
    "X_train, X_test, y_train, y_test = train_test_split(\n",
    "    X, y, test_size=0.3, random_state=42)"
   ]
  },
  {
   "cell_type": "code",
   "execution_count": 36,
   "id": "30aaeda1-11fd-48f9-b368-2f30dfb235a6",
   "metadata": {},
   "outputs": [
    {
     "name": "stdout",
     "output_type": "stream",
     "text": [
      "accuracy: 97.0%\n",
      "precision: 95.0%\n",
      "recall: 98.0%\n",
      "f1_score: 97.0%\n"
     ]
    }
   ],
   "source": [
    "# Model 1 - Multinomial Naive Bayes (With TfidfVectorizer)\n",
    "\n",
    "vectorizer = TfidfVectorizer()\n",
    "X_train_idf = vectorizer.fit_transform(X_train)\n",
    "with open('./models/text_nb_vectorizer.pkl', 'wb') as file:\n",
    "    pickle.dump(vectorizer, file)\n",
    "\n",
    "nb = MultinomialNB()\n",
    "nb.fit(X_train_idf, y_train)\n",
    "with open('./models/text_nb.pkl', 'wb') as file:\n",
    "    pickle.dump(nb, file)\n",
    "X_test_idf = vectorizer.transform(X_test)\n",
    "y_pred = nb.predict(X_test_idf)\n",
    "metrics(y_test, y_pred)"
   ]
  },
  {
   "cell_type": "code",
   "execution_count": 37,
   "id": "540676a8-ae89-4749-a4d8-cc3000d17b67",
   "metadata": {},
   "outputs": [
    {
     "name": "stdout",
     "output_type": "stream",
     "text": [
      "accuracy: 100.0%\n"
     ]
    }
   ],
   "source": [
    "with open('./models/text_nb_vectorizer.pkl', 'rb') as file:\n",
    "    vectorizer = pickle.load(file)\n",
    "xtestidf = vectorizer.transform(xtest)\n",
    "\n",
    "with open('./models/text_nb.pkl', 'rb') as file:\n",
    "    nb = pickle.load(file)\n",
    "predictions = nb.predict(xtestidf)\n",
    "\n",
    "print('accuracy: %s%%' % round(accuracy_score(ytest,predictions)*100,0))"
   ]
  },
  {
   "cell_type": "code",
   "execution_count": null,
   "id": "c8c30015-4541-460c-a716-a7e7b9ec88c9",
   "metadata": {},
   "outputs": [],
   "source": [
    "# Model 3 asdfsdaas ddf\n"
   ]
  }
 ],
 "metadata": {
  "kernelspec": {
   "display_name": "Python 3 (ipykernel)",
   "language": "python",
   "name": "python3"
  },
  "language_info": {
   "codemirror_mode": {
    "name": "ipython",
    "version": 3
   },
   "file_extension": ".py",
   "mimetype": "text/x-python",
   "name": "python",
   "nbconvert_exporter": "python",
   "pygments_lexer": "ipython3",
   "version": "3.11.3"
  }
 },
 "nbformat": 4,
 "nbformat_minor": 5
}
